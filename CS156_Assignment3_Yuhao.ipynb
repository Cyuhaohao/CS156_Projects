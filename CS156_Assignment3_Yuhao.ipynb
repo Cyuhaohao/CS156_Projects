{
 "cells": [
  {
   "cell_type": "markdown",
   "metadata": {},
   "source": [
    "# CS156 Assignment3\n",
    "### Yuhao\n",
    "### Fall 2019"
   ]
  },
  {
   "cell_type": "markdown",
   "metadata": {},
   "source": [
    "## Part 0. Import Necessary Libraries"
   ]
  },
  {
   "cell_type": "code",
   "execution_count": 1,
   "metadata": {
    "collapsed": true
   },
   "outputs": [],
   "source": [
    "from PIL import Image\n",
    "import PIL.ImageOps\n",
    "from glob import glob\n",
    "import numpy as np\n",
    "import pandas as pd\n",
    "import matplotlib.pyplot as plt\n",
    "from sklearn.model_selection import train_test_split\n",
    "from sklearn.svm import LinearSVC\n",
    "from sklearn.metrics import accuracy_score\n",
    "from sklearn.decomposition import PCA\n",
    "from sklearn.discriminant_analysis import LinearDiscriminantAnalysis\n",
    "from prettytable import PrettyTable"
   ]
  },
  {
   "cell_type": "markdown",
   "metadata": {},
   "source": [
    "## Part 1. Data Loading And Processing"
   ]
  },
  {
   "cell_type": "code",
   "execution_count": 6,
   "metadata": {},
   "outputs": [
    {
     "name": "stderr",
     "output_type": "stream",
     "text": [
      "/Users/cyhsmac/anaconda3/lib/python3.6/site-packages/IPython/core/interactiveshell.py:2802: FutureWarning: arrays to stack must be passed as a \"sequence\" type such as list or tuple. Support for non-sequence iterables such as generators is deprecated as of NumPy 1.16 and will raise an error in the future.\n",
      "  if self.run_code(code, result):\n"
     ]
    }
   ],
   "source": [
    "# Upload all image names\n",
    "man = glob('Man/*')\n",
    "woman = glob('Woman/*')\n",
    "\n",
    "# print(len(man))\n",
    "# print(len(woman))\n",
    "\n",
    "man_set=[]\n",
    "woman_set=[]\n",
    "\n",
    "# Open all images and store them in datasets\n",
    "for file in man:\n",
    "    with open(file, 'r+b') as f:\n",
    "        with Image.open(f) as img:\n",
    "            img= img.resize((20,10))\n",
    "            man_set.append((np.array(img).flatten(),0))\n",
    "            \n",
    "for file in woman:\n",
    "    with open(file, 'r+b') as f:\n",
    "        with Image.open(f) as img:\n",
    "            img= img.resize((20,10))\n",
    "            woman_set.append((np.array(img).flatten(),1))\n",
    "\n",
    "# Transform the data structure\n",
    "man_set=np.asarray(man_set)\n",
    "woman_set=np.asarray(woman_set)\n",
    "\n",
    "X=np.append(man_set[:,0],woman_set[:,0])\n",
    "y=np.append(man_set[:,1],woman_set[:,1])\n",
    "\n",
    "X=np.stack(i for i in X)\n",
    "y=np.stack(i for i in y)\n",
    "# print(X)\n",
    "# print(y)\n",
    "\n",
    "# Separate the training and testing sets\n",
    "X_train, X_test, y_train, y_test = train_test_split(X, y, test_size=0.2, random_state=23)"
   ]
  },
  {
   "cell_type": "markdown",
   "metadata": {},
   "source": [
    "## Part 2. SVC Model Training"
   ]
  },
  {
   "cell_type": "code",
   "execution_count": 4,
   "metadata": {},
   "outputs": [
    {
     "name": "stdout",
     "output_type": "stream",
     "text": [
      "Error Rate of SVC Model on Testing Set: 0.42500000000000004\n",
      "Error Rate of SVC Model on Training Set: 0.0031250000000000444\n"
     ]
    }
   ],
   "source": [
    "# Train SVC Classifier Model\n",
    "clf = LinearSVC(random_state=23)\n",
    "clf.fit(X_train, y_train)\n",
    "\n",
    "# Calculate Error Rates\n",
    "print(\"Error Rate of SVC Model on Testing Set:\", 1-accuracy_score(y_test, clf.predict(X_test)))\n",
    "print(\"Error Rate of SVC Model on Training Set:\", 1-accuracy_score(y_train, clf.predict(X_train)))"
   ]
  },
  {
   "cell_type": "markdown",
   "metadata": {},
   "source": [
    "## Part 3. PCA Processing"
   ]
  },
  {
   "cell_type": "code",
   "execution_count": 5,
   "metadata": {},
   "outputs": [
    {
     "name": "stdout",
     "output_type": "stream",
     "text": [
      "Error Rate of PCA Processed Data on Testing Set: 0.4\n",
      "Error Rate of PCA Processed Data on Training Set: 0.46875\n"
     ]
    },
    {
     "data": {
      "image/png": "[encoded data removed]",
      "text/plain": [
       "<matplotlib.figure.Figure at 0x1a14315a58>"
      ]
     },
     "metadata": {},
     "output_type": "display_data"
    }
   ],
   "source": [
    "# Reduce dimension of the dataset with PCA\n",
    "pca=PCA(n_components=8)\n",
    "X_train_pca = pca.fit_transform(X_train)\n",
    "X_test_pca = pca.fit_transform(X_test)\n",
    "clf.fit(X_train_pca, y_train)\n",
    "\n",
    "print(\"Error Rate of PCA Processed Data on Testing Set:\", 1-accuracy_score(y_test, clf.predict(X_test_pca)))\n",
    "print(\"Error Rate of PCA Processed Data on Training Set:\", 1-accuracy_score(y_train, clf.predict(X_train_pca)))\n",
    "\n",
    "# Plot the processed data's distribution after using PCA\n",
    "for color,i,label in zip(['red','blue'],[0,1],['Man','Woman']):\n",
    "    plt.scatter(X_train_pca[y_train==i,0],X_train_pca[y_train==i,1],color=color,label=label)\n",
    "plt.title(\"Data Processed by PCA\")\n",
    "plt.legend()\n",
    "plt.show()"
   ]
  },
  {
   "cell_type": "markdown",
   "metadata": {},
   "source": [
    "## Part 4. LDA Processing"
   ]
  },
  {
   "cell_type": "code",
   "execution_count": 114,
   "metadata": {},
   "outputs": [
    {
     "name": "stdout",
     "output_type": "stream",
     "text": [
      "Error Rate of LDA Processed Data on Testing Set: 0.125\n",
      "Error Rate of LDA Processed Data on Training Set: 0.034375000000000044\n"
     ]
    },
    {
     "name": "stderr",
     "output_type": "stream",
     "text": [
      "/Users/cyhsmac/anaconda3/lib/python3.6/site-packages/sklearn/discriminant_analysis.py:388: UserWarning: Variables are collinear.\n",
      "  warnings.warn(\"Variables are collinear.\")\n"
     ]
    },
    {
     "data": {
      "image/png": "[encoded data removed]",
      "text/plain": [
       "<matplotlib.figure.Figure at 0x1a1a581fd0>"
      ]
     },
     "metadata": {},
     "output_type": "display_data"
    }
   ],
   "source": [
    "# Reduce dimension of the dataset with LDA\n",
    "lda=LinearDiscriminantAnalysis(n_components=10)\n",
    "X_train_lda=lda.fit(X_train, y_train).transform(X_train)\n",
    "X_test_lda=lda.fit(X_test, y_test).transform(X_test)\n",
    "clf.fit(X_train_lda, y_train)\n",
    "\n",
    "print(\"Error Rate of LDA Processed Data on Testing Set:\", 1-accuracy_score(y_test, clf.predict(X_test_lda)))\n",
    "print(\"Error Rate of LDA Processed Data on Training Set:\", 1-accuracy_score(y_train, clf.predict(X_train_lda)))\n",
    "\n",
    "# Plot the processed data's distribution after using LDA\n",
    "for color,i,label in zip(['red','blue'],[0,1],['Man','Woman']):\n",
    "    plt.scatter(X_train_lda[y_train==i,0],X_train_lda[y_train==i,0],color=color,label=label)\n",
    "plt.title(\"Data Processed by LDA\")\n",
    "plt.legend()\n",
    "plt.show()"
   ]
  },
  {
   "cell_type": "markdown",
   "metadata": {},
   "source": [
    "## Part 5. Conclusion"
   ]
  },
  {
   "cell_type": "code",
   "execution_count": 116,
   "metadata": {},
   "outputs": [
    {
     "name": "stdout",
     "output_type": "stream",
     "text": [
      "+-----------+----------+----------+----------+\n",
      "|  Set Name | Raw Data | PCA Data | LDA Data |\n",
      "+-----------+----------+----------+----------+\n",
      "|  Test Set |  0.425   |   0.4    |  0.125   |\n",
      "| Train set |  0.003   |  0.469   |  0.034   |\n",
      "+-----------+----------+----------+----------+\n"
     ]
    }
   ],
   "source": [
    "# Present the results we calculated above in a table\n",
    "x= PrettyTable([\"Set Name\", \"Raw Data\", \"PCA Data\", \"LDA Data\"])\n",
    "x.add_row([\"Test Set\",0.425,0.400,0.125])\n",
    "x.add_row([\"Train set\",0.003,0.469,0.034])\n",
    "print(x)"
   ]
  },
  {
   "cell_type": "markdown",
   "metadata": {},
   "source": [
    "The results of the three questions are presented in the table above. \n",
    "\n",
    "For direct application of linear SVC classifier on the raw data, we observe that the error rate on test set os 0.425, and the error rate on train set is only 0.003. It shows that the model fits much better to the train set, which is considered as overfitting. It performs bad to predict new data.\n",
    "\n",
    "For the method which processes data with PCA to reduce the dimension and applies SVC, we can see that the error rate on test set is 0.4 and on train set is 0.469. In this case, we can obserse a similar error rate on the two sets. However, both error rates are high, which show bad performances on both sets. The reason which causes this result may be: PCA is an unsupervised method, which reduces the dimension of datasets with labels not included. Therefore, it only tries to amplify the variance of variables, but fails to make sense for our classifier.\n",
    "\n",
    "For the method which processes data with LDA, we can see that the error rate on test set is 0.125 and on train set is 0.034. The two rates are similar and the error rate on test set is the smallest among the three methods. LDA is a supervised method which makes it perform well on classifying between the two datasets. As we can see in the graph we plot in the section of LDA, the feature are captured after the data is processed, where we can easily distinguish the different clusters of Man's and Woman's Clothes."
   ]
  }
 ],
 "metadata": {
  "kernelspec": {
   "display_name": "Python 3",
   "language": "python",
   "name": "python3"
  },
  "language_info": {
   "codemirror_mode": {
    "name": "ipython",
    "version": 3
   },
   "file_extension": ".py",
   "mimetype": "text/x-python",
   "name": "python",
   "nbconvert_exporter": "python",
   "pygments_lexer": "ipython3",
   "version": "3.6.3"
  }
 },
 "nbformat": 4,
 "nbformat_minor": 2
}
