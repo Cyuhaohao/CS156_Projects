{
 "cells": [
  {
   "cell_type": "markdown",
   "metadata": {},
   "source": [
    "# Code for Lending Club Data Analysis\n",
    "## Fall 2019 CS156\n",
    "## Yuhao Chen"
   ]
  },
  {
   "cell_type": "markdown",
   "metadata": {},
   "source": [
    "### 1. Import necessary libraries"
   ]
  },
  {
   "cell_type": "code",
   "execution_count": 12,
   "metadata": {
    "collapsed": true
   },
   "outputs": [],
   "source": [
    "import pandas as pd\n",
    "from sklearn.preprocessing import StandardScaler, MinMaxScaler\n",
    "from sklearn.linear_model import LogisticRegression\n",
    "from sklearn.model_selection import train_test_split, KFold\n",
    "from sklearn.metrics import accuracy_score\n",
    "import numpy as np"
   ]
  },
  {
   "cell_type": "markdown",
   "metadata": {},
   "source": [
    "### 2. Load datasets"
   ]
  },
  {
   "cell_type": "code",
   "execution_count": 13,
   "metadata": {
    "collapsed": true
   },
   "outputs": [],
   "source": [
    "approve_set = pd.read_csv('ApproveStats.csv', skiprows = 1, low_memory=False)\n",
    "reject_set = pd.read_csv('RejectStats.csv', skiprows = 1, low_memory=False)\n",
    "# print(\"Length of Approve Set:\",len(approve_set))\n",
    "# print(\"Length of Reject Set:\",len(reject_set))\n",
    "# print(\"Number of Column in Reject Set:\",len(reject_set.columns.values.tolist()))\n",
    "# print(\"Number of Column in Approve Set:\",len(approve_set.columns.values.tolist()))\n",
    "# print(reject_set.head)\n",
    "# print(approve_set.head)"
   ]
  },
  {
   "cell_type": "markdown",
   "metadata": {},
   "source": [
    "### 3. Combine two datasets"
   ]
  },
  {
   "cell_type": "code",
   "execution_count": 14,
   "metadata": {
    "collapsed": true
   },
   "outputs": [],
   "source": [
    "approve_set = approve_set[['loan_amnt', 'dti', 'addr_state', 'emp_length']]\n",
    "approve_set['approve_state'] = 1\n",
    "approve_set['dti'] = approve_set['dti']/100\n",
    "\n",
    "\n",
    "def del_sign(x):\n",
    "    return float(x[0:-1])/100\n",
    "\n",
    "reject_set = reject_set[['Amount Requested', 'Debt-To-Income Ratio', 'State', 'Employment Length']].tail(42538)\n",
    "reject_set.columns = ['loan_amnt', 'dti', 'addr_state', 'emp_length']\n",
    "reject_set['approve_state'] = 0\n",
    "reject_set['dti'] = reject_set['dti'].apply(del_sign)\n",
    "\n",
    "combined_set = pd.concat([approve_set, reject_set], axis=0)\n",
    "combined_set.index = range(0,len(combined_set))\n",
    "\n",
    "# print(approve_set)\n",
    "# print(reject_set)\n",
    "# print(combined_set)\n",
    "# print(type(approve_set))\n",
    "# print(type(reject_set))"
   ]
  },
  {
   "cell_type": "markdown",
   "metadata": {},
   "source": [
    "### 4. Deal with missing data"
   ]
  },
  {
   "cell_type": "code",
   "execution_count": 15,
   "metadata": {
    "collapsed": true
   },
   "outputs": [],
   "source": [
    "# print(combined_set.dtypes.value_counts())\n",
    "# print(combined_set.isnull().sum().sort_values(ascending=False))\n",
    "# print(combined_set[combined_set[['addr_state','dti','loan_amnt']].isnull().T.any()])\n",
    "\n",
    "combined_set = combined_set.drop([39786, 42536, 42537])\n",
    "\n",
    "# print(combined_set[combined_set[['emp_length']].isnull().T.any()])\n",
    "\n",
    "combined_set['emp_length'] = combined_set['emp_length'].fillna('Unknown')\n",
    "\n",
    "# print(combined_set.isnull().sum().sort_values(ascending=False))"
   ]
  },
  {
   "cell_type": "markdown",
   "metadata": {},
   "source": [
    "### 5. Feature abstraction"
   ]
  },
  {
   "cell_type": "code",
   "execution_count": 16,
   "metadata": {
    "collapsed": true
   },
   "outputs": [],
   "source": [
    "mapping_dict = {\n",
    "    \"emp_length\": {\n",
    "        \"10+ years\": 10,\n",
    "        \"9 years\": 9,\n",
    "        \"8 years\": 8,\n",
    "        \"7 years\": 7,\n",
    "        \"6 years\": 6,\n",
    "        \"5 years\": 5,\n",
    "        \"4 years\": 4,\n",
    "        \"3 years\": 3,\n",
    "        \"2 years\": 2,\n",
    "        \"1 year\": 1,\n",
    "        \"< 1 year\": 0,\n",
    "        \"n/a\": 0,\n",
    "        \"Unknown\": 5\n",
    "    }\n",
    "}\n",
    "\n",
    "combined_set = combined_set.replace(mapping_dict)\n",
    "# print(combined_set.head())\n",
    "\n",
    "dummy_set = pd.get_dummies(combined_set['addr_state'])\n",
    "combined_set = pd.concat([combined_set, dummy_set], axis=1)\n",
    "combined_set = combined_set.drop(['addr_state'], axis=1)\n",
    "\n",
    "# print(combined_set.info())\n",
    "# print(combined_set.head())"
   ]
  },
  {
   "cell_type": "markdown",
   "metadata": {},
   "source": [
    "### 6. Create two datasets(one for MinMaxScaler model and one for StandardScaler model)"
   ]
  },
  {
   "cell_type": "code",
   "execution_count": 17,
   "metadata": {
    "collapsed": true
   },
   "outputs": [],
   "source": [
    "col = combined_set.columns.drop('approve_state')\n",
    "combined_set_ml1 = combined_set\n",
    "combined_set_ml2 = combined_set\n",
    "\n",
    "sc1 = StandardScaler()\n",
    "combined_set_ml1[col] =sc1.fit_transform(combined_set_ml1[col])\n",
    "# print(combined_set_ml.head())\n",
    "X1 = combined_set_ml1[col]\n",
    "y1 = combined_set_ml1['approve_state']\n",
    "X1_train, X1_test, y1_train, y1_test = train_test_split(X1, y1, test_size=0.3, random_state=75)\n",
    "\n",
    "\n",
    "sc2 = MinMaxScaler(feature_range=(0, 1))\n",
    "combined_set_ml2[col] =sc2.fit_transform(combined_set_ml2[col])\n",
    "X2 = combined_set_ml2[col]\n",
    "y2 = combined_set_ml2['approve_state']\n",
    "X2_train, X2_test, y2_train, y2_test = train_test_split(X2, y2, test_size=0.3, random_state=75)"
   ]
  },
  {
   "cell_type": "markdown",
   "metadata": {},
   "source": [
    "### 7. Cross-Validation to understand the better model"
   ]
  },
  {
   "cell_type": "code",
   "execution_count": 18,
   "metadata": {},
   "outputs": [
    {
     "name": "stdout",
     "output_type": "stream",
     "text": [
      "Score for Stardard Scaler Model: 0.8192305736046992\n",
      "Score for MinMax Scaler Model: 0.8172658578244377\n"
     ]
    }
   ],
   "source": [
    "kf = KFold(n_splits=10, random_state=75)\n",
    "score1 = []\n",
    "score2 = []\n",
    "for train_index, valid_index in kf.split(X1_train):\n",
    "    X1_trainset, y1_trainset = X1_train.iloc[train_index], y1_train.iloc[train_index]\n",
    "    X1_validset, y1_validset = X1_train.iloc[valid_index], y1_train.iloc[valid_index]\n",
    "    X2_trainset, y2_trainset = X2_train.iloc[train_index], y2_train.iloc[train_index]\n",
    "    X2_validset, y2_validset = X2_train.iloc[valid_index], y2_train.iloc[valid_index]\n",
    "\n",
    "    lr1 = LogisticRegression()\n",
    "    lr1.fit(X1_trainset, y1_trainset)\n",
    "    predicted1 = lr1.predict(X1_validset)\n",
    "    score1.append(accuracy_score(predicted1, y1_validset))\n",
    "\n",
    "    lr2 = LogisticRegression()\n",
    "    lr2.fit(X2_trainset, y2_trainset)\n",
    "    predicted2 = lr2.predict(X2_validset)\n",
    "    score2.append(accuracy_score(predicted2, y2_validset))\n",
    "\n",
    "print(\"Score for Stardard Scaler Model:\", np.mean(score1))\n",
    "print(\"Score for MinMax Scaler Model:\", np.mean(score2))"
   ]
  },
  {
   "cell_type": "markdown",
   "metadata": {},
   "source": [
    "### 8. Train model on whole training set and test on test set"
   ]
  },
  {
   "cell_type": "code",
   "execution_count": 22,
   "metadata": {},
   "outputs": [
    {
     "name": "stdout",
     "output_type": "stream",
     "text": [
      "Accuacy on the testing set is: 0.8215265261343155\n",
      "Accuacy on the training set is: 0.8198518916558916\n"
     ]
    }
   ],
   "source": [
    "lr1 = LogisticRegression()\n",
    "lr1.fit(X1_train, y1_train)\n",
    "\n",
    "predict1_1 = lr1.predict(X1_test)\n",
    "print('Accuacy on the testing set is:', accuracy_score(predict1_1, y1_test))\n",
    "predict1_2 = lr1.predict(X1_train)\n",
    "print('Accuacy on the training set is:', accuracy_score(predict1_2, y1_train))"
   ]
  },
  {
   "cell_type": "code",
   "execution_count": 27,
   "metadata": {},
   "outputs": [
    {
     "data": {
      "image/png": "[encoded data removed]",
      "text/plain": [
       "<matplotlib.figure.Figure at 0x1a1c9afa20>"
      ]
     },
     "metadata": {},
     "output_type": "display_data"
    }
   ],
   "source": [
    "# Print the results on confusion matrix\n",
    "from sklearn.metrics import confusion_matrix\n",
    "import seaborn as sns\n",
    "import matplotlib.pyplot as plt\n",
    "m = confusion_matrix(y1_test, predict1_1) \n",
    "plt.figure(figsize=(5,3))\n",
    "sns.heatmap(m)\n",
    "plt.show()"
   ]
  }
 ],
 "metadata": {
  "kernelspec": {
   "display_name": "Python 3",
   "language": "python",
   "name": "python3"
  },
  "language_info": {
   "codemirror_mode": {
    "name": "ipython",
    "version": 3
   },
   "file_extension": ".py",
   "mimetype": "text/x-python",
   "name": "python",
   "nbconvert_exporter": "python",
   "pygments_lexer": "ipython3",
   "version": "3.6.3"
  }
 },
 "nbformat": 4,
 "nbformat_minor": 2
}
