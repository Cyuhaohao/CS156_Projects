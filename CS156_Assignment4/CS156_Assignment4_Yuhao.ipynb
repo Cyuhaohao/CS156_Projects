{
 "cells": [
  {
   "cell_type": "markdown",
   "metadata": {},
   "source": [
    "# CS156 Assignment 4 \n",
    "# MNIST Digits\n",
    "### Yuhao Chen"
   ]
  },
  {
   "cell_type": "markdown",
   "metadata": {},
   "source": [
    "## Part1. Import Libraries And Datasets\n",
    "#### Import all necessary librabries"
   ]
  },
  {
   "cell_type": "code",
   "execution_count": 2,
   "metadata": {
    "collapsed": true
   },
   "outputs": [],
   "source": [
    "import os\n",
    "import struct\n",
    "import numpy as np\n",
    "import matplotlib.pyplot as plt\n",
    "from array import array as pyarray\n",
    "from sklearn.svm import SVC\n",
    "import time\n",
    "from sklearn.metrics import accuracy_score, confusion_matrix\n",
    "import seaborn as sns\n",
    "from prettytable import PrettyTable"
   ]
  },
  {
   "cell_type": "markdown",
   "metadata": {},
   "source": [
    "#### Import all necessary datasets"
   ]
  },
  {
   "cell_type": "code",
   "execution_count": 3,
   "metadata": {
    "collapsed": true
   },
   "outputs": [],
   "source": [
    "# Import MNIST data(Retrieved from https://gist.github.com/MFathirIrhas/f24d61d134b014da029a)\n",
    "def load_mnist(dataset=\"training\", digits=np.arange(10), path=\".\", size = 60000):\n",
    "    if dataset == \"training\":\n",
    "        fname_img = os.path.join(path, 'train-images-idx3-ubyte')\n",
    "        fname_lbl = os.path.join(path, 'train-labels-idx1-ubyte')\n",
    "    elif dataset == \"testing\":\n",
    "        fname_img = os.path.join(path, 't10k-images-idx3-ubyte')\n",
    "        fname_lbl = os.path.join(path, 't10k-labels-idx1-ubyte')\n",
    "\n",
    "    else:\n",
    "        raise ValueError(\"dataset must be 'testing' or 'training'\")\n",
    "    \n",
    "    flbl = open(fname_lbl, 'rb')\n",
    "    magic_nr, size = struct.unpack(\">II\", flbl.read(8))\n",
    "    lbl = pyarray(\"b\", flbl.read())\n",
    "    flbl.close()\n",
    "    \n",
    "    fimg = open(fname_img, 'rb')\n",
    "    magic_nr, size, rows, cols = struct.unpack(\">IIII\", fimg.read(16))\n",
    "    img = pyarray(\"B\", fimg.read())\n",
    "    fimg.close()\n",
    "    \n",
    "    ind = [ k for k in range(size) if lbl[k] in digits ]\n",
    "    N = size #int(len(ind) * size/100.)\n",
    "    images = np.zeros((N, rows, cols), dtype='uint8')\n",
    "    labels = np.zeros((N, 1), dtype='int8')\n",
    "    \n",
    "    for i in range(N): #int(len(ind) * size/100.)):\n",
    "        images[i] = np.array(img[ ind[i]*rows*cols : (ind[i]+1)*rows*cols ]).reshape((rows, cols))\n",
    "        labels[i] = lbl[ind[i]]\n",
    "    labels = [label[0] for label in labels]\n",
    "    return images, labels"
   ]
  },
  {
   "cell_type": "markdown",
   "metadata": {},
   "source": [
    "## Part2. Data Processing\n",
    "#### Separate Training and Testing Sets"
   ]
  },
  {
   "cell_type": "code",
   "execution_count": 4,
   "metadata": {
    "collapsed": true
   },
   "outputs": [],
   "source": [
    "# Load data with function defined above\n",
    "train = load_mnist(dataset=\"training\")\n",
    "test = load_mnist(dataset=\"testing\")\n",
    "\n",
    "# Load the training set data and labels\n",
    "X_train = train[0]\n",
    "y_train = np.asarray(train[1])\n",
    "\n",
    "# Load the testing set data and labels\n",
    "X_test = test[0]\n",
    "y_test = np.asarray(test[1])"
   ]
  },
  {
   "cell_type": "markdown",
   "metadata": {},
   "source": [
    "#### Select samples for number 1 and 3"
   ]
  },
  {
   "cell_type": "code",
   "execution_count": 5,
   "metadata": {
    "collapsed": true
   },
   "outputs": [],
   "source": [
    "# Find index for images with labels 1 and 3\n",
    "idx_2_train = np.where(y_train == 1)\n",
    "idx_3_train = np.where(y_train == 3)\n",
    "\n",
    "# Locates the images in training set\n",
    "idx_train = []\n",
    "for a in idx_2_train+idx_3_train:\n",
    "    for b in a:\n",
    "        idx_train.append(b)\n",
    "\n",
    "# Redefine training data and labels with the indexs of 1 and 3\n",
    "X_train = X_train[idx_train]\n",
    "y_train = y_train[idx_train]\n",
    "\n",
    "\n",
    "# Locates the images in testing set\n",
    "idx_2_test = np.where(y_test == 1)\n",
    "idx_3_test = np.where(y_test == 3)\n",
    "\n",
    "idx_test = []\n",
    "for a in idx_2_test+idx_3_test:\n",
    "    for b in a:\n",
    "        idx_test.append(b)\n",
    "\n",
    "X_test = X_test[idx_test]\n",
    "y_test = y_test[idx_test]"
   ]
  },
  {
   "cell_type": "markdown",
   "metadata": {},
   "source": [
    "#### Print Samples for 1s and 3s"
   ]
  },
  {
   "cell_type": "code",
   "execution_count": 6,
   "metadata": {},
   "outputs": [
    {
     "data": {
      "image/png": "[encoded data removed]",
      "text/plain": [
       "<matplotlib.figure.Figure at 0x1a2afd1128>"
      ]
     },
     "metadata": {},
     "output_type": "display_data"
    },
    {
     "data": {
      "image/png": "[encoded data removed]",
      "text/plain": [
       "<matplotlib.figure.Figure at 0x1a2b0b6208>"
      ]
     },
     "metadata": {},
     "output_type": "display_data"
    }
   ],
   "source": [
    "# Find and print the first 5 images with label 1\n",
    "p1 = plt.figure(figsize=(5, 2))\n",
    "for i in range(5):\n",
    "    ax = p1.add_subplot(2, 5, i + 1, xticks = [], yticks = [])\n",
    "    ax.imshow(X_train[i], cmap = 'gray_r')\n",
    "    \n",
    "plt.title('Example Images of Number 1')\n",
    "plt.show()\n",
    "\n",
    "# Find and print the last 5 images with label 3\n",
    "p2 = plt.figure(figsize=(5, 2))\n",
    "for i in range(5):\n",
    "    ax = p2.add_subplot(2, 5, i + 1, xticks = [], yticks = [])\n",
    "    ax.imshow(X_train[-(i+1)], cmap = 'gray_r')\n",
    "\n",
    "plt.title('Example Images of Number 3')\n",
    "plt.show()"
   ]
  },
  {
   "cell_type": "markdown",
   "metadata": {},
   "source": [
    "#### Reshape the sets into 2 dimensional arrays"
   ]
  },
  {
   "cell_type": "code",
   "execution_count": 7,
   "metadata": {},
   "outputs": [
    {
     "name": "stdout",
     "output_type": "stream",
     "text": [
      "(12873, 28, 28)\n",
      "(2145, 28, 28)\n"
     ]
    }
   ],
   "source": [
    "# Observe the shape of training and testing sets\n",
    "print(X_train.shape)\n",
    "print(X_test.shape)\n",
    "\n",
    "# Reshape them in a shape needed for training\n",
    "X_train = np.reshape(X_train, (12873, 28*28))\n",
    "X_test = np.reshape(X_test, (2145, 28*28))"
   ]
  },
  {
   "cell_type": "markdown",
   "metadata": {},
   "source": [
    "## Part3. Support Vector Classifier Training\n",
    "#### Train a linear support vector classifier"
   ]
  },
  {
   "cell_type": "code",
   "execution_count": 8,
   "metadata": {},
   "outputs": [
    {
     "name": "stdout",
     "output_type": "stream",
     "text": [
      "The Linear SVC takes 5.506447792053223 seconds\n",
      "Accuracy for the Linear SVC is 0.9916083916083916\n"
     ]
    }
   ],
   "source": [
    "# Train a SVC with linear kernel\n",
    "\n",
    "# Set the model\n",
    "linear_SVC = SVC(kernel=\"linear\")\n",
    "# Record start time\n",
    "start_time = time.time()\n",
    "# Fit the model\n",
    "linear_SVC.fit(X_train, y_train)\n",
    "# Record end time\n",
    "end_time = time.time()\n",
    "\n",
    "# Print total time of training\n",
    "print(\"The Linear SVC takes %s seconds\" % (end_time - start_time))\n",
    "\n",
    "# Predict the y with the trained model and calculate the accuracy score\n",
    "y_pred = linear_SVC.predict(X_test)\n",
    "print(\"Accuracy for the Linear SVC is\", accuracy_score(y_test, y_pred))"
   ]
  },
  {
   "cell_type": "markdown",
   "metadata": {},
   "source": [
    "#### Train a poly support vector classifier"
   ]
  },
  {
   "cell_type": "code",
   "execution_count": 35,
   "metadata": {},
   "outputs": [
    {
     "name": "stdout",
     "output_type": "stream",
     "text": [
      "The Linear SVC takes 3.7725729942321777 seconds\n",
      "Accuracy for the Linear SVC is 0.9976689976689976\n"
     ]
    }
   ],
   "source": [
    "# Train a SVC with poly kernel\n",
    "linear_SVC = SVC(kernel=\"poly\")\n",
    "start_time = time.time()\n",
    "linear_SVC.fit(X_train, y_train)\n",
    "end_time = time.time()\n",
    "print(\"The Linear SVC takes %s seconds\" % (end_time - start_time))\n",
    "\n",
    "y_pred = linear_SVC.predict(X_test)\n",
    "print(\"Accuracy for the Linear SVC is\", accuracy_score(y_test, y_pred))"
   ]
  },
  {
   "cell_type": "markdown",
   "metadata": {},
   "source": [
    "#### Train a RBF support vector classifier"
   ]
  },
  {
   "cell_type": "code",
   "execution_count": 10,
   "metadata": {},
   "outputs": [
    {
     "ename": "TypeError",
     "evalue": "must be real number, not str",
     "output_type": "error",
     "traceback": [
      "\u001b[0;31m---------------------------------------------------------------------------\u001b[0m",
      "\u001b[0;31mTypeError\u001b[0m                                 Traceback (most recent call last)",
      "\u001b[0;32m<ipython-input-10-e8023076d8ee>\u001b[0m in \u001b[0;36m<module>\u001b[0;34m()\u001b[0m\n\u001b[1;32m      2\u001b[0m \u001b[0mlinear_SVC\u001b[0m \u001b[0;34m=\u001b[0m \u001b[0mSVC\u001b[0m\u001b[0;34m(\u001b[0m\u001b[0mkernel\u001b[0m\u001b[0;34m=\u001b[0m\u001b[0;34m\"rbf\"\u001b[0m\u001b[0;34m,\u001b[0m\u001b[0mgamma\u001b[0m\u001b[0;34m=\u001b[0m\u001b[0;34m\"scale\"\u001b[0m\u001b[0;34m)\u001b[0m\u001b[0;34m\u001b[0m\u001b[0m\n\u001b[1;32m      3\u001b[0m \u001b[0mstart_time\u001b[0m \u001b[0;34m=\u001b[0m \u001b[0mtime\u001b[0m\u001b[0;34m.\u001b[0m\u001b[0mtime\u001b[0m\u001b[0;34m(\u001b[0m\u001b[0;34m)\u001b[0m\u001b[0;34m\u001b[0m\u001b[0m\n\u001b[0;32m----> 4\u001b[0;31m \u001b[0mlinear_SVC\u001b[0m\u001b[0;34m.\u001b[0m\u001b[0mfit\u001b[0m\u001b[0;34m(\u001b[0m\u001b[0mX_train\u001b[0m\u001b[0;34m,\u001b[0m \u001b[0my_train\u001b[0m\u001b[0;34m)\u001b[0m\u001b[0;34m\u001b[0m\u001b[0m\n\u001b[0m\u001b[1;32m      5\u001b[0m \u001b[0mend_time\u001b[0m \u001b[0;34m=\u001b[0m \u001b[0mtime\u001b[0m\u001b[0;34m.\u001b[0m\u001b[0mtime\u001b[0m\u001b[0;34m(\u001b[0m\u001b[0;34m)\u001b[0m\u001b[0;34m\u001b[0m\u001b[0m\n\u001b[1;32m      6\u001b[0m \u001b[0mprint\u001b[0m\u001b[0;34m(\u001b[0m\u001b[0;34m\"The Linear SVC takes %s seconds\"\u001b[0m \u001b[0;34m%\u001b[0m \u001b[0;34m(\u001b[0m\u001b[0mend_time\u001b[0m \u001b[0;34m-\u001b[0m \u001b[0mstart_time\u001b[0m\u001b[0;34m)\u001b[0m\u001b[0;34m)\u001b[0m\u001b[0;34m\u001b[0m\u001b[0m\n",
      "\u001b[0;32m~/anaconda3/lib/python3.6/site-packages/sklearn/svm/base.py\u001b[0m in \u001b[0;36mfit\u001b[0;34m(self, X, y, sample_weight)\u001b[0m\n\u001b[1;32m    185\u001b[0m \u001b[0;34m\u001b[0m\u001b[0m\n\u001b[1;32m    186\u001b[0m         \u001b[0mseed\u001b[0m \u001b[0;34m=\u001b[0m \u001b[0mrnd\u001b[0m\u001b[0;34m.\u001b[0m\u001b[0mrandint\u001b[0m\u001b[0;34m(\u001b[0m\u001b[0mnp\u001b[0m\u001b[0;34m.\u001b[0m\u001b[0miinfo\u001b[0m\u001b[0;34m(\u001b[0m\u001b[0;34m'i'\u001b[0m\u001b[0;34m)\u001b[0m\u001b[0;34m.\u001b[0m\u001b[0mmax\u001b[0m\u001b[0;34m)\u001b[0m\u001b[0;34m\u001b[0m\u001b[0m\n\u001b[0;32m--> 187\u001b[0;31m         \u001b[0mfit\u001b[0m\u001b[0;34m(\u001b[0m\u001b[0mX\u001b[0m\u001b[0;34m,\u001b[0m \u001b[0my\u001b[0m\u001b[0;34m,\u001b[0m \u001b[0msample_weight\u001b[0m\u001b[0;34m,\u001b[0m \u001b[0msolver_type\u001b[0m\u001b[0;34m,\u001b[0m \u001b[0mkernel\u001b[0m\u001b[0;34m,\u001b[0m \u001b[0mrandom_seed\u001b[0m\u001b[0;34m=\u001b[0m\u001b[0mseed\u001b[0m\u001b[0;34m)\u001b[0m\u001b[0;34m\u001b[0m\u001b[0m\n\u001b[0m\u001b[1;32m    188\u001b[0m         \u001b[0;31m# see comment on the other call to np.iinfo in this file\u001b[0m\u001b[0;34m\u001b[0m\u001b[0;34m\u001b[0m\u001b[0m\n\u001b[1;32m    189\u001b[0m \u001b[0;34m\u001b[0m\u001b[0m\n",
      "\u001b[0;32m~/anaconda3/lib/python3.6/site-packages/sklearn/svm/base.py\u001b[0m in \u001b[0;36m_dense_fit\u001b[0;34m(self, X, y, sample_weight, solver_type, kernel, random_seed)\u001b[0m\n\u001b[1;32m    252\u001b[0m                 \u001b[0mcache_size\u001b[0m\u001b[0;34m=\u001b[0m\u001b[0mself\u001b[0m\u001b[0;34m.\u001b[0m\u001b[0mcache_size\u001b[0m\u001b[0;34m,\u001b[0m \u001b[0mcoef0\u001b[0m\u001b[0;34m=\u001b[0m\u001b[0mself\u001b[0m\u001b[0;34m.\u001b[0m\u001b[0mcoef0\u001b[0m\u001b[0;34m,\u001b[0m\u001b[0;34m\u001b[0m\u001b[0m\n\u001b[1;32m    253\u001b[0m                 \u001b[0mgamma\u001b[0m\u001b[0;34m=\u001b[0m\u001b[0mself\u001b[0m\u001b[0;34m.\u001b[0m\u001b[0m_gamma\u001b[0m\u001b[0;34m,\u001b[0m \u001b[0mepsilon\u001b[0m\u001b[0;34m=\u001b[0m\u001b[0mself\u001b[0m\u001b[0;34m.\u001b[0m\u001b[0mepsilon\u001b[0m\u001b[0;34m,\u001b[0m\u001b[0;34m\u001b[0m\u001b[0m\n\u001b[0;32m--> 254\u001b[0;31m                 max_iter=self.max_iter, random_seed=random_seed)\n\u001b[0m\u001b[1;32m    255\u001b[0m \u001b[0;34m\u001b[0m\u001b[0m\n\u001b[1;32m    256\u001b[0m         \u001b[0mself\u001b[0m\u001b[0;34m.\u001b[0m\u001b[0m_warn_from_fit_status\u001b[0m\u001b[0;34m(\u001b[0m\u001b[0;34m)\u001b[0m\u001b[0;34m\u001b[0m\u001b[0m\n",
      "\u001b[0;32msklearn/svm/libsvm.pyx\u001b[0m in \u001b[0;36msklearn.svm.libsvm.fit\u001b[0;34m()\u001b[0m\n",
      "\u001b[0;31mTypeError\u001b[0m: must be real number, not str"
     ]
    }
   ],
   "source": [
    "# Train a SVC with RBF kernel\n",
    "linear_SVC = SVC(kernel=\"rbf\", gamma=\"scale\")\n",
    "start_time = time.time()\n",
    "linear_SVC.fit(X_train, y_train)\n",
    "end_time = time.time()\n",
    "print(\"The Linear SVC takes %s seconds\" % (end_time - start_time))\n",
    "\n",
    "y_pred = linear_SVC.predict(X_test)\n",
    "print(\"Accuracy for the Linear SVC is\", accuracy_score(y_test, y_pred))"
   ]
  },
  {
   "cell_type": "markdown",
   "metadata": {},
   "source": [
    "#### Show a confusion matrix for RBF SVC"
   ]
  },
  {
   "cell_type": "code",
   "execution_count": 40,
   "metadata": {},
   "outputs": [
    {
     "data": {
      "image/png": "[encoded data removed]",
      "text/plain": [
       "<matplotlib.figure.Figure at 0x1a2034ca90>"
      ]
     },
     "metadata": {},
     "output_type": "display_data"
    }
   ],
   "source": [
    "# Create a confusion matrix to show why RBF behave so bad (Retrieved from https://stackoverflow.com/questions/2148543/how-to-write-a-confusion-matrix-in-python)\n",
    "cm=confusion_matrix(y_test, y_pred)\n",
    "ax= plt.subplot()\n",
    "sns.heatmap(cm, annot=True, ax = ax,fmt='g')\n",
    "ax.set_xlabel('Predicted labels')\n",
    "ax.set_ylabel('True labels');\n",
    "ax.set_title('Confusion Matrix')\n",
    "ax.xaxis.set_ticklabels([3, 1])\n",
    "ax.yaxis.set_ticklabels([3, 1])\n",
    "plt.show()"
   ]
  },
  {
   "cell_type": "markdown",
   "metadata": {},
   "source": [
    "From the confusion matrix, we can find that the SVC model with RBF kernel recognize all images to be 3. To be honest, I'm not sure why RBF behave so bad in this classification probelm. One speculation is that we need to adjust hyper parameters like gamma and C to better use the RBF kernel."
   ]
  },
  {
   "cell_type": "markdown",
   "metadata": {},
   "source": [
    "## Part4. Conclusion"
   ]
  },
  {
   "cell_type": "code",
   "execution_count": 39,
   "metadata": {},
   "outputs": [
    {
     "name": "stdout",
     "output_type": "stream",
     "text": [
      "+-----------------+---------------+------------+\n",
      "| SVC Kernel Type | Training Time | Error Rate |\n",
      "+-----------------+---------------+------------+\n",
      "|      Linear     |     5.29s     |   0.84%    |\n",
      "|       Poly      |     3.77s     |   0.23%    |\n",
      "|       RBF       |    348.94s    |   47.09%   |\n",
      "+-----------------+---------------+------------+\n"
     ]
    }
   ],
   "source": [
    "x = PrettyTable([\"SVC Kernel Type\", \"Training Time\", \"Error Rate\"])\n",
    "x.add_row([\"Linear\",'5.29s','0.84%'])\n",
    "x.add_row([\"Poly\",'3.77s','0.23%'])\n",
    "x.add_row([\"RBF\",'348.94s','47.09%'])\n",
    "print(x)"
   ]
  },
  {
   "cell_type": "markdown",
   "metadata": {},
   "source": [
    "From the table, we can see that while using SVC model to classify the hand-writting numbers 1 and 3, the poly kernel is the best, which behaves the best in both training time and accuracy. However, RBF kernel behaves the worst, which is the worst in the both indices. "
   ]
  }
 ],
 "metadata": {
  "kernelspec": {
   "display_name": "Python 3",
   "language": "python",
   "name": "python3"
  },
  "language_info": {
   "codemirror_mode": {
    "name": "ipython",
    "version": 3
   },
   "file_extension": ".py",
   "mimetype": "text/x-python",
   "name": "python",
   "nbconvert_exporter": "python",
   "pygments_lexer": "ipython3",
   "version": "3.6.3"
  }
 },
 "nbformat": 4,
 "nbformat_minor": 2
}
